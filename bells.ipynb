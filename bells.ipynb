{
 "cells": [
  {
   "cell_type": "markdown",
   "metadata": {},
   "source": [
    "# Imports"
   ]
  },
  {
   "cell_type": "code",
   "execution_count": 1,
   "metadata": {},
   "outputs": [],
   "source": [
    "import numpy as np\n",
    "from qiskit.circuit import QuantumCircuit, QuantumRegister, ClassicalRegister, Parameter\n",
    "from qiskit.quantum_info import SparsePauliOp\n",
    "from qiskit_aer.primitives import Estimator"
   ]
  },
  {
   "cell_type": "markdown",
   "metadata": {},
   "source": [
    "# Experimental Setup"
   ]
  },
  {
   "cell_type": "markdown",
   "metadata": {},
   "source": [
    "Note: Throughout this notebook we consider vertically polarized light as $\\ket{0}$ and horizontally polarized light as $\\ket{1}$. We also refer detection site A as \"Alice\" and site B as \"Bob\" following standard quantum information theory language."
   ]
  },
  {
   "cell_type": "markdown",
   "metadata": {},
   "source": [
    "First, we illumitate a 440-nm lazer and on a pair of Barium Borate(BBO) crystals to produced pairs of entangled photons with a wavelength $\\approx$ 880-nm. The light polarization of the light should be at $45^{\\circ}$ with respect to one of the BBO crystal's axis. To learn more please read the referred paper. Then, we need to do the following:\n",
    "1. Check the purity of the entanled pair by doing 4 measurements. $N(0^{\\circ}, 0^{\\circ}), N(90^{\\circ}, 90^{\\circ}), N(45^{\\circ}, 45^{\\circ}), N(0^{\\circ}, 90^{\\circ})$.\n",
    "2. Perform 16 measurements for each $(\\alpha, \\beta)$ as mentioned in Table-1 in the paper.\n",
    "3. Calculate $E(a,b), E(a,b'), E(a',b), E(a',b')$ using \n",
    "$$E(\\alpha, \\beta) = \\frac{ N(\\alpha, \\beta) + N(\\alpha_{\\perp}, \\beta_{\\perp}) - N(\\alpha, \\beta_{\\perp}) - N(\\alpha_{\\perp}, \\beta) }{ N(\\alpha, \\beta) + N(\\alpha_{\\perp}, \\beta_{\\perp}) + N(\\alpha, \\beta_{\\perp}) + N(\\alpha_{\\perp}, \\beta) }$$\n",
    "4. Calculate S using $$S = E(a,b) - E(a,b') + E(a',b) + E(a',b')$$"
   ]
  },
  {
   "cell_type": "markdown",
   "metadata": {},
   "source": [
    "# Creating the circuits"
   ]
  },
  {
   "cell_type": "markdown",
   "metadata": {},
   "source": [
    "## Entangled pair"
   ]
  },
  {
   "cell_type": "markdown",
   "metadata": {},
   "source": [
    "To create an entangled pair of photons i.e the $\\psi_{\\text{EPR}} = \\frac{1}{\\sqrt{2}} (\\ket{00} + \\ket{11})$ state we use the following circuit to create this Bell's state."
   ]
  },
  {
   "cell_type": "code",
   "execution_count": 2,
   "metadata": {},
   "outputs": [],
   "source": [
    "qreg_alice = QuantumRegister(1, name='Alice')\n",
    "qreg_bob = QuantumRegister(1, name='Bob')\n",
    "\n",
    "def create_epr_state(qreg_alice, qreg_bob):\n",
    "    epr_qc = QuantumCircuit(qreg_alice, qreg_bob)\n",
    "    epr_qc.h(0)\n",
    "    epr_qc.cx(0, 1)\n",
    "    return epr_qc"
   ]
  },
  {
   "cell_type": "code",
   "execution_count": 3,
   "metadata": {},
   "outputs": [
    {
     "data": {
      "image/png": "[encoded data removed]",
      "text/plain": [
       "<Figure size 320.736x200.667 with 1 Axes>"
      ]
     },
     "execution_count": 3,
     "metadata": {},
     "output_type": "execute_result"
    }
   ],
   "source": [
    "epr_qc = create_epr_state(qreg_alice, qreg_bob)\n",
    "epr_qc.draw(\"mpl\", style=\"clifford\")"
   ]
  },
  {
   "cell_type": "markdown",
   "metadata": {},
   "source": [
    "## Adding polarizors with arbitrary angle"
   ]
  },
  {
   "cell_type": "markdown",
   "metadata": {},
   "source": [
    "We now need a way to measure these qubits in an arbitrary basis. For this, we just need to perform $R_{y}(\\theta)$ before measurement, where $\\theta$ can be chosen independently by Alice and Bob. Let $\\alpha$ and $\\beta$ be the angle of the basis chosen by Alice and Bob respectively."
   ]
  },
  {
   "cell_type": "code",
   "execution_count": 4,
   "metadata": {},
   "outputs": [],
   "source": [
    "alpha = Parameter('α')\n",
    "beta = Parameter('β')"
   ]
  },
  {
   "cell_type": "code",
   "execution_count": 7,
   "metadata": {},
   "outputs": [
    {
     "data": {
      "image/png": "[encoded data removed]",
      "text/plain": [
       "<Figure size 237.125x200.667 with 1 Axes>"
      ]
     },
     "execution_count": 7,
     "metadata": {},
     "output_type": "execute_result"
    }
   ],
   "source": [
    "def add_polarizors(qreg_alice, qreg_bob, alpha, beta):\n",
    "    measurement_qc = QuantumCircuit(qreg_alice, qreg_bob)\n",
    "    measurement_qc.ry(alpha, qreg_alice)\n",
    "    measurement_qc.ry(beta, qreg_bob)\n",
    "    measurement_qc.draw(\"mpl\", style=\"clifford\")\n",
    "    return measurement_qc\n",
    "\n",
    "add_pol_qc = add_polarizors(qreg_alice, qreg_bob, alpha, beta)\n",
    "add_pol_qc.draw(\"mpl\", style=\"clifford\")"
   ]
  },
  {
   "cell_type": "markdown",
   "metadata": {},
   "source": [
    "## Join these circuits to get the full parametrized circuit"
   ]
  },
  {
   "cell_type": "code",
   "execution_count": 10,
   "metadata": {},
   "outputs": [],
   "source": [
    "def bells_inequality_qc(qreg_alice, qreg_bob, alpha, beta):\n",
    "    qc = QuantumCircuit(qreg_alice, qreg_bob)\n",
    "    qc = qc.compose(create_epr_state(qreg_alice, qreg_bob))\n",
    "    qc = qc.compose(add_polarizors(qreg_alice, qreg_bob, alpha, beta))\n",
    "    return qc"
   ]
  },
  {
   "cell_type": "code",
   "execution_count": 11,
   "metadata": {},
   "outputs": [
    {
     "data": {
      "image/png": "[encoded data removed]",
      "text/plain": [
       "<Figure size 404.348x200.667 with 1 Axes>"
      ]
     },
     "execution_count": 11,
     "metadata": {},
     "output_type": "execute_result"
    }
   ],
   "source": [
    "bells_inequality_qc = bells_inequality_qc(qreg_alice, qreg_bob, alpha, beta)\n",
    "bells_inequality_qc.draw(\"mpl\", style=\"clifford\")"
   ]
  },
  {
   "cell_type": "markdown",
   "metadata": {},
   "source": [
    "# Create simulator instance"
   ]
  },
  {
   "cell_type": "code",
   "execution_count": 12,
   "metadata": {},
   "outputs": [],
   "source": [
    "estimator = Estimator()\n",
    "estimator.set_options(seed=100)"
   ]
  },
  {
   "cell_type": "markdown",
   "metadata": {},
   "source": [
    "# Confirm $\\psi_{\\text{EPR}}$ state"
   ]
  },
  {
   "cell_type": "code",
   "execution_count": 13,
   "metadata": {},
   "outputs": [],
   "source": [
    "observable = SparsePauliOp(\"Z\" * 2)"
   ]
  },
  {
   "cell_type": "code",
   "execution_count": 14,
   "metadata": {},
   "outputs": [],
   "source": [
    "alpha_beta_pairs = ( (0, 0), (np.pi/2, np.pi/2), (np.pi/4, np.pi/4), (0, np.pi/2) )"
   ]
  },
  {
   "cell_type": "code",
   "execution_count": 15,
   "metadata": {},
   "outputs": [],
   "source": [
    "N_epr = {}\n",
    "for alpha_beta in alpha_beta_pairs:\n",
    "    job = estimator.run(bells_inequality_qc, observable, parameter_values=alpha_beta)\n",
    "    result = job.result()\n",
    "    N_epr[alpha_beta] = result.values[0]"
   ]
  },
  {
   "cell_type": "markdown",
   "metadata": {},
   "source": [
    "$$C = N(0^{\\circ}, 90^{\\circ})$$\n",
    "$$A = N(0^{\\circ}, 0^{\\circ}) + N(90^{\\circ}, 90^{\\circ}) - 2C $$"
   ]
  },
  {
   "cell_type": "code",
   "execution_count": 16,
   "metadata": {},
   "outputs": [],
   "source": [
    "C = N_epr[(0, np.pi/2)]\n",
    "A = N_epr[(0, 0)] +  N_epr[(np.pi/2, np.pi/2)] - 2*C"
   ]
  },
  {
   "cell_type": "markdown",
   "metadata": {},
   "source": [
    "$$\\tan^{2} \\theta_{l} = \\frac{N(90^{\\circ}, 90^{\\circ}) - C}{N(0^{\\circ}, 0^{\\circ}) - C}$$"
   ]
  },
  {
   "cell_type": "code",
   "execution_count": 17,
   "metadata": {},
   "outputs": [
    {
     "data": {
      "text/plain": [
       "1.0"
      ]
     },
     "execution_count": 17,
     "metadata": {},
     "output_type": "execute_result"
    }
   ],
   "source": [
    "(N_epr[(np.pi/2, np.pi/2)] - C) / (N_epr[(0, 0)] - C)"
   ]
  },
  {
   "cell_type": "markdown",
   "metadata": {},
   "source": [
    "Therefore $\\theta_{l} = 45$. The experimental value should be close to this value if you have a pure $\\psi_{\\text{EPR}}$."
   ]
  },
  {
   "cell_type": "markdown",
   "metadata": {},
   "source": [
    "# 16 measurements to calculate S"
   ]
  },
  {
   "cell_type": "code",
   "execution_count": null,
   "metadata": {},
   "outputs": [],
   "source": [
    "alphas = np.arange(-np.pi/4, np.pi/2 + np.pi/4, np.pi/4)\n",
    "betas = np.arange(-np.pi/8, np.pi/2 + np.pi/4, np.pi/4)"
   ]
  },
  {
   "cell_type": "code",
   "execution_count": null,
   "metadata": {},
   "outputs": [],
   "source": [
    "alphas * 180/np.pi"
   ]
  },
  {
   "cell_type": "code",
   "execution_count": null,
   "metadata": {},
   "outputs": [],
   "source": [
    "betas * 180/np.pi"
   ]
  },
  {
   "cell_type": "code",
   "execution_count": null,
   "metadata": {},
   "outputs": [],
   "source": [
    "N = {}\n",
    "for alpha in alphas:\n",
    "    for beta in betas:\n",
    "        job = estimator.run(full_qc, observable, parameter_values=(alpha, beta))\n",
    "        result = job.result()\n",
    "        N[(alpha, beta)] = result.values[0]"
   ]
  },
  {
   "cell_type": "code",
   "execution_count": null,
   "metadata": {},
   "outputs": [],
   "source": [
    "for alpha_beta, exp_val in N.items():\n",
    "    print(f\"{np.array(alpha_beta) * 180/np.pi}: {exp_val}\")"
   ]
  },
  {
   "cell_type": "code",
   "execution_count": null,
   "metadata": {},
   "outputs": [],
   "source": []
  }
 ],
 "metadata": {
  "kernelspec": {
   "display_name": ".venv",
   "language": "python",
   "name": "python3"
  },
  "language_info": {
   "codemirror_mode": {
    "name": "ipython",
    "version": 3
   },
   "file_extension": ".py",
   "mimetype": "text/x-python",
   "name": "python",
   "nbconvert_exporter": "python",
   "pygments_lexer": "ipython3",
   "version": "3.11.2"
  }
 },
 "nbformat": 4,
 "nbformat_minor": 2
}
