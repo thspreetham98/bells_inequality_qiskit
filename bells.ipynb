{
 "cells": [
  {
   "cell_type": "markdown",
   "metadata": {},
   "source": [
    "# Experimental Setup"
   ]
  },
  {
   "cell_type": "markdown",
   "metadata": {},
   "source": [
    "Note: Throughout this notebook we consider vertically polarized light as $\\ket{0}$ and horizontally polarized light as $\\ket{1}$"
   ]
  },
  {
   "cell_type": "markdown",
   "metadata": {},
   "source": [
    "First, we illumitate a 440-nm lazer and on a pair of Barium Borate(BBO) crystals to produced pairs of entangled photons with a wavelength $\\approx$ 880-nm. To learn how please read the referred paper. We then need to do two things:\n",
    "1. Confirm that we have an entanled pair by doing 4 measurements.\n",
    "2. Perform 16 measurements for each $(\\alpha, \\beta)$ as mentioned in Table-1 in the paper.\n",
    "3. Calculate $E(a,b), E(a,b'), E(a',b), E(a',b')$ using $$$$\n",
    "4. Calculate S using $$S = E(a,b) - E(a,b') + E(a',b) + E(a',b')$$"
   ]
  },
  {
   "cell_type": "markdown",
   "metadata": {},
   "source": []
  }
 ],
 "metadata": {
  "language_info": {
   "name": "python"
  }
 },
 "nbformat": 4,
 "nbformat_minor": 2
}
